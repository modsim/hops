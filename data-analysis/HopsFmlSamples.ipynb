{
 "cells": [
  {
   "cell_type": "code",
   "execution_count": 1,
   "metadata": {},
   "outputs": [],
   "source": [
    "from matplotlib import pyplot as plt\n",
    "import numpy as np\n",
    "import pandas as pd\n",
    "import datetime as dt\n",
    "from IPython.display import HTML, display\n",
    "import tabulate\n",
    "import os\n",
    "import scipy.linalg.blas\n",
    "from matplotlib import rc\n",
    "#rc('font',**{'family':'sans-serif','sans-serif':['Helvetica']})\n",
    "## for Palatino and other serif fonts use:\n",
    "#rc('font',**{'family':'serif','serif':['Palatino']})\n",
    "rc('text', usetex=True)"
   ]
  },
  {
   "cell_type": "code",
   "execution_count": 2,
   "metadata": {},
   "outputs": [],
   "source": [
    "def analyze(resultsDir, modelName, thinning, numberOfSamplesPerTimeStamp=1000):\n",
    "    models = [modelName + mcmc for mcmc in ['_CHRR_nopt_0', '_CHRR_nopt_1', '_HRR_nopt_1']] #'_HRpt_0']]\n",
    "    timestampsData = [\n",
    "        pd.read_csv(os.path.join(resultsDir, model, model + \"_timestamps.csv\"), header=None).tail(10000) for model in models\n",
    "    ]\n",
    "    \n",
    "    durations = [\n",
    "        (data.iloc[-1, 0] - data.iloc[0, 0]) \n",
    "        #/ 1000\n",
    "        #/ thinning / ( numberOfSamplesPerTimeStamp * len(data.index)-1)\n",
    "        for data in timestampsData\n",
    "    ]\n",
    "   \n",
    "    for i in range(len(models)):\n",
    "        print(models[i] + \": \" + str(durations[i]))\n",
    "\n",
    "    return durations, models"
   ]
  },
  {
   "cell_type": "code",
   "execution_count": 3,
   "metadata": {},
   "outputs": [
    {
     "name": "stdout",
     "output_type": "stream",
     "text": [
      "ecoliBoxConstr_CHRR_nopt_0: 4649061\n",
      "ecoliBoxConstr_CHRR_nopt_1: 7149183\n",
      "ecoliBoxConstr_HRR_nopt_1: 7233558\n"
     ]
    }
   ],
   "source": [
    "durations_ecoli, chains_ecoli = analyze('results_hops_25_05_20', 'ecoliBoxConstr', 270)\n"
   ]
  },
  {
   "cell_type": "code",
   "execution_count": 4,
   "metadata": {},
   "outputs": [],
   "source": [
    "def meanOfVecList(inlist):\n",
    "    means = inlist[0]\n",
    "    for i in range(1,len(inlist)):\n",
    "        means+=inlist[i]\n",
    "    means/=len(inlist)\n",
    "    #print('means ' + str(means))\n",
    "    return means"
   ]
  },
  {
   "cell_type": "code",
   "execution_count": 5,
   "metadata": {},
   "outputs": [],
   "source": [
    "def PSRF(data):\n",
    "    #print('call psrf')\n",
    "    n = min([len(d) for d in data])\n",
    "    #print(\"n \" + str(n))\n",
    "    #print(len(data))\n",
    "    #print(data[0].mean())\n",
    "    #print(n)\n",
    "    variances = [vals.std(ddof=1)**2 for vals in data]\n",
    "    if all(v < 1e-15 for v in variances):\n",
    "        #print('variances: ' + str(variances))\n",
    "        return 1\n",
    "    \n",
    "\n",
    "    variancesMean = np.array(variances).mean()\n",
    "    #print('variancesMean ' + str(variancesMean))\n",
    "    means = [vals.mean() for vals in data]\n",
    "    meansMean = np.array(means).mean()\n",
    "    #print(\"means size \" + str(len(means)))\n",
    "    W = np.array(variancesMean)\n",
    "    B = np.add.reduce((np.array(means)-meansMean).std(ddof=1)**2)\n",
    "    varEst = (n - 1.)/n * W  + B\n",
    "    \n",
    "    #print('R**2: ' + str(varEst / W))\n",
    "    #print('R: ' + str(np.sqrt(varEst / W)))  \n",
    "    return np.sqrt(varEst / W)"
   ]
  },
  {
   "cell_type": "code",
   "execution_count": 6,
   "metadata": {},
   "outputs": [],
   "source": [
    "def calculatePSRF(resultsDir, chains):\n",
    "    print(\"chains\")\n",
    "    print(chains)\n",
    "    print(resultsDir)\n",
    "    \n",
    "    h = pd.read_csv(os.path.join(resultsDir, chains[0], chains[0] + \"_parameterNames.csv\"), header=None)[0].tolist()\n",
    "    \n",
    "    states = [ \n",
    "        pd.read_csv(os.path.join(resultsDir, chain, chain + \"_states.csv\"), header=None)\n",
    "        for chain in chains\n",
    "    ]\n",
    "  \n",
    "    psrfs = []\n",
    "\n",
    "    for i in range(len(states[0].columns)):\n",
    "        #print('dimensions ' + str(i))\n",
    "        samples = sum([np.split(state.iloc[:,i].to_numpy(), 5) for state in states], [])\n",
    "        psrfs.append(PSRF(samples))\n",
    "    return psrfs, states,h"
   ]
  },
  {
   "cell_type": "code",
   "execution_count": 7,
   "metadata": {
    "scrolled": false
   },
   "outputs": [],
   "source": [
    "def printPSRF(chains, model):\n",
    "    psrfs, states, header = calculatePSRF('results_hops_25_05_20', chains)\n",
    "    print(model + \" max psrf: \" + str(max(psrfs)) + \", mean: \" + str(np.array(psrfs).mean()) + \" +/- \" + str(np.array(psrfs).std()))\n",
    "    return states, header"
   ]
  },
  {
   "cell_type": "code",
   "execution_count": 8,
   "metadata": {},
   "outputs": [
    {
     "name": "stdout",
     "output_type": "stream",
     "text": [
      "chains\n",
      "['ecoliBoxConstr_CHRR_nopt_0', 'ecoliBoxConstr_CHRR_nopt_1', 'ecoliBoxConstr_HRR_nopt_1']\n",
      "results_hops_25_05_20\n",
      "ecoliBoxConstr max psrf: 1.0630108120793553, mean: 1.0119905507805036 +/- 0.015057563933982537\n"
     ]
    }
   ],
   "source": [
    "states_ecoli_all_chains, header = printPSRF(chains_ecoli, 'ecoliBoxConstr')"
   ]
  },
  {
   "cell_type": "code",
   "execution_count": 113,
   "metadata": {},
   "outputs": [],
   "source": [
    "def plot(chains, states, header):\n",
    "    colors = ['b', 'g', 'r', 'c', 'm', 'y', 'k', 'w']\n",
    "    plt.figure(figsize=(12,9))\n",
    "    for n in range(len(states[0].columns)):\n",
    "        plt.subplot(6, 5, n+1)\n",
    "        #plt.title(titel + 'flux ' + str(n))\n",
    "        #for j in range(len(states)):\n",
    "        s = states[0][states[0].columns[n]].tolist() + states[1][states[1].columns[n]].tolist()\n",
    "        plt.hist(s, 20, density=True)\n",
    "        #plt.grid()\n",
    "        plt.ylabel(r\"density\", fontsize=13)\n",
    "        plt.xlabel(r'flux~[$mmol / g_{dw} / h$]',fontsize=13)\n",
    "        plt.tight_layout()\n",
    "        h = header[n].replace(\"_\", \"\\_\")\n",
    "        title = h\n",
    "        plt.title(title, fontsize=13)\n",
    "    plt.savefig('figures/ecoliBoxConstrFluxes.pdf', format='pdf')\n",
    "    plt.show()"
   ]
  },
  {
   "cell_type": "code",
   "execution_count": 114,
   "metadata": {
    "scrolled": true
   },
   "outputs": [
    {
     "data": {
      "image/png": "[encoded data removed]",
      "text/plain": [
       "<Figure size 864x648 with 27 Axes>"
      ]
     },
     "metadata": {
      "needs_background": "light"
     },
     "output_type": "display_data"
    }
   ],
   "source": [
    "plot(chains_ecoli, states_ecoli_all_chains[:-1], header)"
   ]
  },
  {
   "cell_type": "code",
   "execution_count": 115,
   "metadata": {},
   "outputs": [],
   "source": [
    "def effectiveSampleSize(samples, monotSensitivity=0.01):\n",
    "    length = float(len(samples))\n",
    "    \n",
    "    mean = sum(samples) / length\n",
    "    shiftedSamples = np.array([x-mean for x in samples], float, order=\"F\")\n",
    "    gamma = [(scipy.linalg.blas.ddot(shiftedSamples, shiftedSamples, offx=i) / length) for i in range(len(samples))]\n",
    "    monot = next(i for i,g in enumerate(gamma) if g < monotSensitivity*gamma[0])\n",
    "    gammaSum = sum(gamma[1:monot])\n",
    "    v = (gamma[0] + 2*gammaSum) / length\n",
    "    ess = gamma[0] / float(v)\n",
    "    return ess"
   ]
  },
  {
   "cell_type": "code",
   "execution_count": 116,
   "metadata": {},
   "outputs": [],
   "source": [
    "def calculatePSRFForN(resultsDir, chains, n):\n",
    "    h = pd.read_csv(os.path.join(resultsDir, chains[0], chains[0] + \"_parameterNames.csv\"), header=None)[0].tolist()\n",
    "    \n",
    "    states = [ \n",
    "        pd.read_csv(os.path.join(resultsDir, chain, chain + \"_states.csv\"), header=None).head(n)\n",
    "        for chain in chains\n",
    "    ]\n",
    "  \n",
    "    psrfs = []\n",
    "    for i in range(len(states[0].columns)):\n",
    "        #print('dimensions ' + str(i))\n",
    "        samples = sum([np.split(state.iloc[:,i].to_numpy(), 5) for state in states], [])\n",
    "        psrfs.append(PSRF(samples))\n",
    "    return max(psrfs)"
   ]
  },
  {
   "cell_type": "code",
   "execution_count": 119,
   "metadata": {},
   "outputs": [],
   "source": [
    "psrfs = [calculatePSRFForN('results_hops_25_05_20', chains_ecoli,n) for n in range(100, 10100, 100)]"
   ]
  },
  {
   "cell_type": "code",
   "execution_count": 125,
   "metadata": {},
   "outputs": [
    {
     "data": {
      "image/png": "[encoded data removed]",
      "text/plain": [
       "<Figure size 288x288 with 1 Axes>"
      ]
     },
     "metadata": {
      "needs_background": "light"
     },
     "output_type": "display_data"
    }
   ],
   "source": [
    "plt.figure(figsize=(4,4))\n",
    "plt.xlabel(\"Number of thinned MCMC iterations~[-]\")\n",
    "plt.ylabel(\"PSRF~[-]\")\n",
    "\n",
    "plt.title(\"Decline of maximum PSRF\")\n",
    "plt.plot([n for n in range(100, 10100, 100)], psrfs, label='Maximum PSRF')\n",
    "plt.plot([0, 10000], [1.2, 1.2], color='red', label=\"upper bound for convergence\")\n",
    "#plt.plot([3500, 3500], [1.2, min(psrfs)], color='red', label=\"point of convergence\")\n",
    "plt.legend()\n",
    "plt.tight_layout()\n",
    "\n",
    "plt.savefig(\"figures/ecoliBoxConstr_decliningPSRF.pdf\", formmat=\"pdf\")\n",
    "plt.show()"
   ]
  },
  {
   "cell_type": "code",
   "execution_count": null,
   "metadata": {},
   "outputs": [],
   "source": []
  }
 ],
 "metadata": {
  "kernelspec": {
   "display_name": "Python 3",
   "language": "python",
   "name": "python3"
  },
  "language_info": {
   "codemirror_mode": {
    "name": "ipython",
    "version": 3
   },
   "file_extension": ".py",
   "mimetype": "text/x-python",
   "name": "python",
   "nbconvert_exporter": "python",
   "pygments_lexer": "ipython3",
   "version": "3.6.9"
  }
 },
 "nbformat": 4,
 "nbformat_minor": 2
}
